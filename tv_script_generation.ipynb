{
 "cells": [
  {
   "cell_type": "code",
   "execution_count": 0,
   "metadata": {
    "colab": {},
    "colab_type": "code",
    "id": "1-1zwwM3ZDE2"
   },
   "outputs": [],
   "source": [
    "# load in data\n",
    "import helper\n",
    "data_dir = './data/Seinfeld_Scripts.txt'\n",
    "text = helper.load_data(data_dir)"
   ]
  },
  {
   "cell_type": "code",
   "execution_count": 4,
   "metadata": {
    "colab": {
     "base_uri": "https://localhost:8080/",
     "height": 306
    },
    "colab_type": "code",
    "executionInfo": {
     "elapsed": 2124,
     "status": "ok",
     "timestamp": 1587332627694,
     "user": {
      "displayName": "Anupreet Singh",
      "photoUrl": "https://lh3.googleusercontent.com/a-/AOh14Gg-_IOpDBSPw9mJj6uOECi1Y1hZMd4Dmf36mZmHGA=s64",
      "userId": "02412696281168132197"
     },
     "user_tz": -330
    },
    "id": "lTm4NgAhZDE7",
    "outputId": "1706b072-45c0-40da-b876-b5b4f819489f"
   },
   "outputs": [
    {
     "name": "stdout",
     "output_type": "stream",
     "text": [
      "Dataset Stats\n",
      "Roughly the number of unique words: 46367\n",
      "Number of lines: 109233\n",
      "Average number of words in each line: 5.544240293684143\n",
      "\n",
      "The lines 0 to 10:\n",
      "jerry: do you know what this is all about? do you know, why were here? to be out, this is out...and out is one of the single most enjoyable experiences of life. people...did you ever hear people talking about we should go out? this is what theyre talking about...this whole thing, were all out now, no one is home. not one person here is home, were all out! there are people trying to find us, they dont know where we are. (on an imaginary phone) did you ring?, i cant find him. where did he go? he didnt tell me where he was going. he must have gone out. you wanna go out you get ready, you pick out the clothes, right? you take the shower, you get all ready, get the cash, get your friends, the car, the spot, the reservation...then youre standing around, what do you do? you go we gotta be getting back. once youre out, you wanna get back! you wanna go to sleep, you wanna get up, you wanna go out again tomorrow, right? where ever you are in life, its my feeling, youve gotta go. \n",
      "\n",
      "jerry: (pointing at georges shirt) see, to me, that button is in the worst possible spot. the second button literally makes or breaks the shirt, look at it. its too high! its in no-mans-land. you look like you live with your mother. \n",
      "\n",
      "george: are you through? \n",
      "\n",
      "jerry: you do of course try on, when you buy? \n",
      "\n",
      "george: yes, it was purple, i liked it, i dont actually recall considering the buttons. \n",
      "\n"
     ]
    }
   ],
   "source": [
    "view_line_range = (0, 10)\n",
    "\n",
    "import numpy as np\n",
    "\n",
    "print('Dataset Stats')\n",
    "print('Roughly the number of unique words: {}'.format(len({word: None for word in text.split()})))\n",
    "\n",
    "lines = text.split('\\n')\n",
    "print('Number of lines: {}'.format(len(lines)))\n",
    "word_count_line = [len(line.split()) for line in lines]\n",
    "print('Average number of words in each line: {}'.format(np.average(word_count_line)))\n",
    "\n",
    "print()\n",
    "print('The lines {} to {}:'.format(*view_line_range))\n",
    "print('\\n'.join(text.split('\\n')[view_line_range[0]:view_line_range[1]]))"
   ]
  },
  {
   "cell_type": "code",
   "execution_count": 5,
   "metadata": {
    "colab": {
     "base_uri": "https://localhost:8080/",
     "height": 34
    },
    "colab_type": "code",
    "executionInfo": {
     "elapsed": 1787,
     "status": "ok",
     "timestamp": 1587332631862,
     "user": {
      "displayName": "Anupreet Singh",
      "photoUrl": "https://lh3.googleusercontent.com/a-/AOh14Gg-_IOpDBSPw9mJj6uOECi1Y1hZMd4Dmf36mZmHGA=s64",
      "userId": "02412696281168132197"
     },
     "user_tz": -330
    },
    "id": "dEY7l3b5ZDE-",
    "outputId": "d12980b7-3836-4af3-fc9b-d0ae775c9a47"
   },
   "outputs": [
    {
     "name": "stdout",
     "output_type": "stream",
     "text": [
      "Tests Passed\n"
     ]
    }
   ],
   "source": [
    "import problem_unittests as tests\n",
    "from collections import Counter\n",
    "def create_lookup_tables(text):\n",
    "    \"\"\"\n",
    "    Create lookup tables for vocabulary\n",
    "    :param text: The text of tv scripts split into words\n",
    "    :return: A tuple of dicts (vocab_to_int, int_to_vocab)\n",
    "    \"\"\"\n",
    "\n",
    "    counts=Counter(text)\n",
    "    vocab=sorted(counts,key=counts.get,reverse=True)\n",
    "    vocab_to_int={word: ii for ii,word in enumerate(vocab)}\n",
    "\n",
    "    int_to_vocab={ii:word for word,ii in vocab_to_int.items()}\n",
    "    # return tuple\n",
    "    return (vocab_to_int, int_to_vocab)\n",
    "\n",
    "\n",
    "tests.test_create_lookup_tables(create_lookup_tables)"
   ]
  },
  {
   "cell_type": "code",
   "execution_count": 6,
   "metadata": {
    "colab": {
     "base_uri": "https://localhost:8080/",
     "height": 34
    },
    "colab_type": "code",
    "executionInfo": {
     "elapsed": 2066,
     "status": "ok",
     "timestamp": 1587332636014,
     "user": {
      "displayName": "Anupreet Singh",
      "photoUrl": "https://lh3.googleusercontent.com/a-/AOh14Gg-_IOpDBSPw9mJj6uOECi1Y1hZMd4Dmf36mZmHGA=s64",
      "userId": "02412696281168132197"
     },
     "user_tz": -330
    },
    "id": "20UZFD0vZDFF",
    "outputId": "d96534e0-3338-4b68-fc32-694c3e6a6f00"
   },
   "outputs": [
    {
     "name": "stdout",
     "output_type": "stream",
     "text": [
      "Tests Passed\n"
     ]
    }
   ],
   "source": [
    "def token_lookup():\n",
    "    \"\"\"\n",
    "    Generate a dict to turn punctuation into a token.\n",
    "    :return: Tokenized dictionary where the key is the punctuation and the value is the token\n",
    "    \"\"\"\n",
    "    token_dict={\n",
    "        '.':'||PERIOD||',\n",
    "        ',':'||COMMA||',\n",
    "        '\"':'||QUOTATION||',\n",
    "        ';':'||SEMICOLON||',\n",
    "        '!':'||EXCLAMATION||',\n",
    "        '?':'||QUESTION||',\n",
    "        '(':'||LEFTPARENTHESIS||',\n",
    "        ')':'||RIGHTPARENTHESIS||',\n",
    "        '-':'||DASH||',\n",
    "        '\\n':'||RETURN||'\n",
    "    }\n",
    "    return token_dict\n",
    "\n",
    "tests.test_tokenize(token_lookup)"
   ]
  },
  {
   "cell_type": "code",
   "execution_count": 0,
   "metadata": {
    "colab": {},
    "colab_type": "code",
    "id": "j7neQeBdZDFI"
   },
   "outputs": [],
   "source": [
    "# pre-process training data\n",
    "helper.preprocess_and_save_data(data_dir, token_lookup, create_lookup_tables)"
   ]
  },
  {
   "cell_type": "code",
   "execution_count": 0,
   "metadata": {
    "colab": {},
    "colab_type": "code",
    "id": "y6pNDLBkZDFM"
   },
   "outputs": [],
   "source": [
    "# This cell acts as a checkpoint\n",
    "import helper\n",
    "import problem_unittests as tests\n",
    "\n",
    "int_text, vocab_to_int, int_to_vocab, token_dict = helper.load_preprocess()"
   ]
  },
  {
   "cell_type": "code",
   "execution_count": 0,
   "metadata": {
    "colab": {},
    "colab_type": "code",
    "id": "CMY-7LgSZDFQ"
   },
   "outputs": [],
   "source": [
    "# check if gpu is available\n",
    "import torch\n",
    "\n",
    "# Check for a GPU\n",
    "train_on_gpu = torch.cuda.is_available()\n",
    "if not train_on_gpu:\n",
    "    print('No GPU found. Please use a GPU to train your neural network.')"
   ]
  },
  {
   "cell_type": "code",
   "execution_count": 0,
   "metadata": {
    "colab": {},
    "colab_type": "code",
    "id": "GFGGFEyMZDFV"
   },
   "outputs": [],
   "source": [
    "from torch.utils.data import TensorDataset, DataLoader\n",
    "\n",
    "\n",
    "def batch_data(words, sequence_length, batch_size):\n",
    "    \"\"\"\n",
    "    Batch the neural network data using DataLoader\n",
    "    :param words: The word ids of the TV scripts\n",
    "    :param sequence_length: The sequence length of each batch\n",
    "    :param batch_size: The size of each batch; the number of sequences in a batch\n",
    "    :return: DataLoader with batched data\n",
    "    \"\"\"\n",
    "    n_batches=len(words)//batch_size\n",
    "    words=words[:n_batches*batch_size]\n",
    "    y_len=len(words)-sequence_length\n",
    "    x,y=[],[]\n",
    "    for idx in range(0,y_len):\n",
    "      idx_end=sequence_length+idx\n",
    "      x_batch=words[idx:idx_end]\n",
    "      batch_y=words[idx_end]\n",
    "      x.append(x_batch)\n",
    "      y.append(batch_y)\n",
    "    # return a dataloader\n",
    "\n",
    "    data=TensorDataset(torch.from_numpy(np.asarray(x)),torch.from_numpy(np.asarray(y)))\n",
    "    dataloader=DataLoader(data,shuffle=False,batch_size=batch_size)\n",
    "    return dataloader\n",
    "\n"
   ]
  },
  {
   "cell_type": "code",
   "execution_count": 11,
   "metadata": {
    "colab": {
     "base_uri": "https://localhost:8080/",
     "height": 252
    },
    "colab_type": "code",
    "executionInfo": {
     "elapsed": 1922,
     "status": "ok",
     "timestamp": 1587332654890,
     "user": {
      "displayName": "Anupreet Singh",
      "photoUrl": "https://lh3.googleusercontent.com/a-/AOh14Gg-_IOpDBSPw9mJj6uOECi1Y1hZMd4Dmf36mZmHGA=s64",
      "userId": "02412696281168132197"
     },
     "user_tz": -330
    },
    "id": "TO2uu7VnZDFY",
    "outputId": "72559cbc-a8e0-4bca-b88a-461ae698e4a4"
   },
   "outputs": [
    {
     "name": "stdout",
     "output_type": "stream",
     "text": [
      "torch.Size([10, 5])\n",
      "tensor([[ 0,  1,  2,  3,  4],\n",
      "        [ 1,  2,  3,  4,  5],\n",
      "        [ 2,  3,  4,  5,  6],\n",
      "        [ 3,  4,  5,  6,  7],\n",
      "        [ 4,  5,  6,  7,  8],\n",
      "        [ 5,  6,  7,  8,  9],\n",
      "        [ 6,  7,  8,  9, 10],\n",
      "        [ 7,  8,  9, 10, 11],\n",
      "        [ 8,  9, 10, 11, 12],\n",
      "        [ 9, 10, 11, 12, 13]])\n",
      "\n",
      "torch.Size([10])\n",
      "tensor([ 5,  6,  7,  8,  9, 10, 11, 12, 13, 14])\n"
     ]
    }
   ],
   "source": [
    "# test dataloader\n",
    "test_text = range(50)\n",
    "t_loader = batch_data(test_text, sequence_length=5, batch_size=10)\n",
    "\n",
    "data_iter = iter(t_loader)\n",
    "sample_x, sample_y = data_iter.next()\n",
    "\n",
    "print(sample_x.shape)\n",
    "print(sample_x)\n",
    "print()\n",
    "print(sample_y.shape)\n",
    "print(sample_y)"
   ]
  },
  {
   "cell_type": "code",
   "execution_count": 12,
   "metadata": {
    "colab": {
     "base_uri": "https://localhost:8080/",
     "height": 34
    },
    "colab_type": "code",
    "executionInfo": {
     "elapsed": 4545,
     "status": "ok",
     "timestamp": 1587332660769,
     "user": {
      "displayName": "Anupreet Singh",
      "photoUrl": "https://lh3.googleusercontent.com/a-/AOh14Gg-_IOpDBSPw9mJj6uOECi1Y1hZMd4Dmf36mZmHGA=s64",
      "userId": "02412696281168132197"
     },
     "user_tz": -330
    },
    "id": "D3Xa_dnAZDFc",
    "outputId": "33fe7937-3942-4c91-db96-126aa4f0d2cf"
   },
   "outputs": [
    {
     "name": "stdout",
     "output_type": "stream",
     "text": [
      "Tests Passed\n"
     ]
    }
   ],
   "source": [
    "import torch.nn as nn\n",
    "\n",
    "class RNN(nn.Module):\n",
    "    \n",
    "    def __init__(self, vocab_size, output_size, embedding_dim, hidden_dim, n_layers, dropout=0.5):\n",
    "        \"\"\"\n",
    "        Initialize the PyTorch RNN Module\n",
    "        :param vocab_size: The number of input dimensions of the neural network (the size of the vocabulary)\n",
    "        :param output_size: The number of output dimensions of the neural network\n",
    "        :param embedding_dim: The size of embeddings, should you choose to use them        \n",
    "        :param hidden_dim: The size of the hidden layer outputs\n",
    "        :param dropout: dropout to add in between LSTM/GRU layers\n",
    "        \"\"\"\n",
    "        super(RNN, self).__init__()\n",
    "        \n",
    "        # set class variables\n",
    "        self.vocab_size=vocab_size\n",
    "        self.output_size=output_size\n",
    "        self.embedding_dim=embedding_dim\n",
    "        self.hidden_dim=hidden_dim\n",
    "        self.n_layers=n_layers\n",
    "        self.dropout=dropout\n",
    "\n",
    "        # define model layers\n",
    "        self.em1=nn.Embedding(self.vocab_size,self.embedding_dim)\n",
    "        self.lstm=nn.LSTM(self.embedding_dim,self.hidden_dim,self.n_layers,dropout=self.dropout,batch_first=True)\n",
    "        self.fc=nn.Linear(self.hidden_dim,self.output_size)\n",
    "\n",
    "    \n",
    "    def forward(self, nn_input, hidden):\n",
    "        \"\"\"\n",
    "        Forward propagation of the neural network\n",
    "        :param nn_input: The input to the neural network\n",
    "        :param hidden: The hidden state        \n",
    "        :return: Two Tensors, the output of the neural network and the latest hidden state\n",
    "        \"\"\"\n",
    "        batch_size=nn_input.size(0)\n",
    "\n",
    "        nn_input=nn_input.long()\n",
    "        embeds=self.em1(nn_input)\n",
    "        lstm_out,hidden=self.lstm(embeds,hidden)\n",
    "        lstm_out=lstm_out.contiguous().view(-1,self.hidden_dim)\n",
    "        out=self.fc(lstm_out)\n",
    "        out=out.view(batch_size,-1,self.output_size)\n",
    "        out=out[:,-1]\n",
    "        # return one batch of output word scores and the hidden state\n",
    "        return out, hidden\n",
    "    \n",
    "    \n",
    "    def init_hidden(self, batch_size):\n",
    "        '''\n",
    "        Initialize the hidden state of an LSTM/GRU\n",
    "        :param batch_size: The batch_size of the hidden state\n",
    "        :return: hidden state of dims (n_layers, batch_size, hidden_dim)\n",
    "        '''\n",
    "        \n",
    "        # initialize hidden state with zero weights, and move to GPU if available\n",
    "        weight=next(self.parameters()).data\n",
    "        if train_on_gpu:\n",
    "          hidden=(weight.new(self.n_layers,batch_size,self.hidden_dim).zero_().cuda(),\n",
    "                  weight.new(self.n_layers,batch_size,self.hidden_dim).zero_().cuda())\n",
    "        else:\n",
    "          hidden=(weight.new(self.n_layers,batch_size,self.hidden_dim).zero_(),\n",
    "                  weight.new(self.n_layers,batch_size,self.hidden_dim).zero_())\n",
    "        return hidden\n",
    "\n",
    "tests.test_rnn(RNN, train_on_gpu)"
   ]
  },
  {
   "cell_type": "code",
   "execution_count": 13,
   "metadata": {
    "colab": {
     "base_uri": "https://localhost:8080/",
     "height": 34
    },
    "colab_type": "code",
    "executionInfo": {
     "elapsed": 1330,
     "status": "ok",
     "timestamp": 1587332663899,
     "user": {
      "displayName": "Anupreet Singh",
      "photoUrl": "https://lh3.googleusercontent.com/a-/AOh14Gg-_IOpDBSPw9mJj6uOECi1Y1hZMd4Dmf36mZmHGA=s64",
      "userId": "02412696281168132197"
     },
     "user_tz": -330
    },
    "id": "gByt_SNsZDFg",
    "outputId": "75c7a75e-6e6c-4a85-dfe2-52584dc056b1"
   },
   "outputs": [
    {
     "name": "stdout",
     "output_type": "stream",
     "text": [
      "Tests Passed\n"
     ]
    }
   ],
   "source": [
    "def forward_back_prop(rnn, optimizer, criterion, inp, target, hidden):\n",
    "    \"\"\"\n",
    "    Forward and backward propagation on the neural network\n",
    "    :param rnn: The PyTorch Module that holds the neural network\n",
    "    :param optimizer: The PyTorch optimizer for the neural network\n",
    "    :param criterion: The PyTorch loss function\n",
    "    :param inp: A batch of input to the neural network\n",
    "    :param target: The target output for the batch of input\n",
    "    :return: The loss and the latest hidden state Tensor\n",
    "    \"\"\"\n",
    "    \n",
    "    \n",
    "    # move data to GPU, if available\n",
    "    if train_on_gpu:\n",
    "      inp,target=inp.cuda(),target.cuda()\n",
    "    # perform backpropagation and optimization\n",
    "    hidden=tuple([each.data for each in hidden])\n",
    "    rnn.zero_grad()\n",
    "    output,hidden=rnn(inp,hidden)\n",
    "    loss=criterion(output,target)\n",
    "    loss.backward()\n",
    "    nn.utils.clip_grad_norm_(rnn.parameters(),5)\n",
    "    optimizer.step()\n",
    "\n",
    "    # return the loss over a batch and the hidden state produced by our model\n",
    "    return loss.item(), hidden\n",
    "\n",
    "\n",
    "tests.test_forward_back_prop(RNN, forward_back_prop, train_on_gpu)"
   ]
  },
  {
   "cell_type": "code",
   "execution_count": 0,
   "metadata": {
    "colab": {},
    "colab_type": "code",
    "id": "rJZkIpe-ZDFl"
   },
   "outputs": [],
   "source": [
    "\n",
    "\n",
    "def train_rnn(rnn, batch_size, optimizer, criterion, n_epochs, show_every_n_batches=100):\n",
    "    batch_losses = []\n",
    "    \n",
    "    rnn.train()\n",
    "\n",
    "    print(\"Training for %d epoch(s)...\" % n_epochs)\n",
    "    for epoch_i in range(1, n_epochs + 1):\n",
    "        \n",
    "        # initialize hidden state\n",
    "        hidden = rnn.init_hidden(batch_size)\n",
    "        \n",
    "        for batch_i, (inputs, labels) in enumerate(train_loader, 1):\n",
    "            \n",
    "            # make sure you iterate over completely full batches, only\n",
    "            n_batches = len(train_loader.dataset)//batch_size\n",
    "            if(batch_i > n_batches):\n",
    "                break\n",
    "            \n",
    "            # forward, back prop\n",
    "            loss, hidden = forward_back_prop(rnn, optimizer, criterion, inputs, labels, hidden)          \n",
    "            # record loss\n",
    "            batch_losses.append(loss)\n",
    "\n",
    "            # printing loss stats\n",
    "            if batch_i % show_every_n_batches == 0:\n",
    "                print('Epoch: {:>4}/{:<4}  Loss: {}\\n'.format(\n",
    "                    epoch_i, n_epochs, np.average(batch_losses)))\n",
    "                batch_losses = []\n",
    "\n",
    "    # returns a trained rnn\n",
    "    return rnn"
   ]
  },
  {
   "cell_type": "markdown",
   "metadata": {
    "colab_type": "text",
    "id": "s0rbiCOXZDFp"
   },
   "source": [
    "### Hyperparameters\n",
    "\n",
    "Set and train the neural network with the following parameters:\n",
    "- Set `sequence_length` to the length of a sequence.\n",
    "- Set `batch_size` to the batch size.\n",
    "- Set `num_epochs` to the number of epochs to train for.\n",
    "- Set `learning_rate` to the learning rate for an Adam optimizer.\n",
    "- Set `vocab_size` to the number of unique tokens in our vocabulary.\n",
    "- Set `output_size` to the desired size of the output.\n",
    "- Set `embedding_dim` to the embedding dimension; smaller than the vocab_size.\n",
    "- Set `hidden_dim` to the hidden dimension of your RNN.\n",
    "- Set `n_layers` to the number of layers/cells in your RNN.\n",
    "- Set `show_every_n_batches` to the number of batches at which the neural network should print progress.\n"
   ]
  },
  {
   "cell_type": "code",
   "execution_count": 0,
   "metadata": {
    "colab": {},
    "colab_type": "code",
    "id": "345C9HA_ZDFp"
   },
   "outputs": [],
   "source": [
    "# Data params\n",
    "# Sequence Length\n",
    "sequence_length =  15 # of words in a sequence\n",
    "# Batch Size\n",
    "batch_size =  128\n",
    "\n",
    "# data loader - do not change\n",
    "train_loader = batch_data(int_text, sequence_length, batch_size)"
   ]
  },
  {
   "cell_type": "code",
   "execution_count": 0,
   "metadata": {
    "colab": {},
    "colab_type": "code",
    "id": "H4PCtAfxZDFs"
   },
   "outputs": [],
   "source": [
    "# Training parameters\n",
    "# Number of Epochs\n",
    "num_epochs = 15\n",
    "# Learning Rate\n",
    "learning_rate = 0.001\n",
    "\n",
    "# Model parameters\n",
    "# Vocab size\n",
    "vocab_size = len(vocab_to_int)\n",
    "# Output size\n",
    "output_size = vocab_size\n",
    "# Embedding Dimension\n",
    "embedding_dim = 250\n",
    "# Hidden Dimension\n",
    "hidden_dim = 256\n",
    "# Number of RNN Layers\n",
    "n_layers = 2\n",
    "\n",
    "# Show stats for every n number of batches\n",
    "show_every_n_batches = 2000"
   ]
  },
  {
   "cell_type": "code",
   "execution_count": 25,
   "metadata": {
    "colab": {
     "base_uri": "https://localhost:8080/",
     "height": 1000
    },
    "colab_type": "code",
    "executionInfo": {
     "elapsed": 2123897,
     "status": "ok",
     "timestamp": 1587335325009,
     "user": {
      "displayName": "Anupreet Singh",
      "photoUrl": "https://lh3.googleusercontent.com/a-/AOh14Gg-_IOpDBSPw9mJj6uOECi1Y1hZMd4Dmf36mZmHGA=s64",
      "userId": "02412696281168132197"
     },
     "user_tz": -330
    },
    "id": "aIxrNXXnZDFv",
    "outputId": "0571e00d-ceee-4447-f084-43f6eb18d776"
   },
   "outputs": [
    {
     "name": "stdout",
     "output_type": "stream",
     "text": [
      "Training for 15 epoch(s)...\n",
      "Epoch:    1/15    Loss: 4.929815348267555\n",
      "\n",
      "Epoch:    1/15    Loss: 4.488612960934639\n",
      "\n",
      "Epoch:    1/15    Loss: 4.352982956767082\n",
      "\n",
      "Epoch:    2/15    Loss: 4.111203026578754\n",
      "\n",
      "Epoch:    2/15    Loss: 3.9347216089963912\n",
      "\n",
      "Epoch:    2/15    Loss: 3.893580560684204\n",
      "\n",
      "Epoch:    3/15    Loss: 3.8089283254108017\n",
      "\n",
      "Epoch:    3/15    Loss: 3.7286862382888795\n",
      "\n",
      "Epoch:    3/15    Loss: 3.6930458450317385\n",
      "\n",
      "Epoch:    4/15    Loss: 3.6390796085252273\n",
      "\n",
      "Epoch:    4/15    Loss: 3.585211606144905\n",
      "\n",
      "Epoch:    4/15    Loss: 3.5529409527778624\n",
      "\n",
      "Epoch:    5/15    Loss: 3.5249800106907148\n",
      "\n",
      "Epoch:    5/15    Loss: 3.4664311213493346\n",
      "\n",
      "Epoch:    5/15    Loss: 3.456453880548477\n",
      "\n",
      "Epoch:    6/15    Loss: 3.4326326990866596\n",
      "\n",
      "Epoch:    6/15    Loss: 3.3784717894792555\n",
      "\n",
      "Epoch:    6/15    Loss: 3.3766451362371446\n",
      "\n",
      "Epoch:    7/15    Loss: 3.3631483782333826\n",
      "\n",
      "Epoch:    7/15    Loss: 3.31347090113163\n",
      "\n",
      "Epoch:    7/15    Loss: 3.3108875020742414\n",
      "\n",
      "Epoch:    8/15    Loss: 3.304568327340797\n",
      "\n",
      "Epoch:    8/15    Loss: 3.2585578585863115\n",
      "\n",
      "Epoch:    8/15    Loss: 3.262452459573746\n",
      "\n",
      "Epoch:    9/15    Loss: 3.258215273406628\n",
      "\n",
      "Epoch:    9/15    Loss: 3.2202789508104326\n",
      "\n",
      "Epoch:    9/15    Loss: 3.2178862310647967\n",
      "\n",
      "Epoch:   10/15    Loss: 3.221461358658387\n",
      "\n",
      "Epoch:   10/15    Loss: 3.1813758420944214\n",
      "\n",
      "Epoch:   10/15    Loss: 3.185644983291626\n",
      "\n",
      "Epoch:   11/15    Loss: 3.1860842899170847\n",
      "\n",
      "Epoch:   11/15    Loss: 3.1505628325939177\n",
      "\n",
      "Epoch:   11/15    Loss: 3.1562149441242218\n",
      "\n",
      "Epoch:   12/15    Loss: 3.1526427962227332\n",
      "\n",
      "Epoch:   12/15    Loss: 3.120674548268318\n",
      "\n",
      "Epoch:   12/15    Loss: 3.1218925578594208\n",
      "\n",
      "Epoch:   13/15    Loss: 3.125961298248517\n",
      "\n",
      "Epoch:   13/15    Loss: 3.094441235303879\n",
      "\n",
      "Epoch:   13/15    Loss: 3.092499297738075\n",
      "\n",
      "Epoch:   14/15    Loss: 3.0997468454015222\n",
      "\n",
      "Epoch:   14/15    Loss: 3.072598280310631\n",
      "\n",
      "Epoch:   14/15    Loss: 3.0662089492082596\n",
      "\n",
      "Epoch:   15/15    Loss: 3.0781784542808635\n",
      "\n",
      "Epoch:   15/15    Loss: 3.0515117992162706\n",
      "\n",
      "Epoch:   15/15    Loss: 3.046286980867386\n",
      "\n",
      "Model Trained and Saved\n"
     ]
    },
    {
     "name": "stderr",
     "output_type": "stream",
     "text": [
      "/usr/local/lib/python3.6/dist-packages/torch/serialization.py:360: UserWarning: Couldn't retrieve source code for container of type RNN. It won't be checked for correctness upon loading.\n",
      "  \"type \" + obj.__name__ + \". It won't be checked \"\n"
     ]
    }
   ],
   "source": [
    "\n",
    "# create model and move to gpu if available\n",
    "rnn = RNN(vocab_size, output_size, embedding_dim, hidden_dim, n_layers, dropout=0.5)\n",
    "if train_on_gpu:\n",
    "    rnn.cuda()\n",
    "\n",
    "# defining loss and optimization functions for training\n",
    "optimizer = torch.optim.Adam(rnn.parameters(), lr=learning_rate)\n",
    "criterion = nn.CrossEntropyLoss()\n",
    "\n",
    "# training the model\n",
    "trained_rnn = train_rnn(rnn, batch_size, optimizer, criterion, num_epochs, show_every_n_batches)\n",
    "\n",
    "# saving the trained model\n",
    "helper.save_model('./save/trained_rnn', trained_rnn)\n",
    "print('Model Trained and Saved')"
   ]
  },
  {
   "cell_type": "code",
   "execution_count": 0,
   "metadata": {
    "colab": {},
    "colab_type": "code",
    "id": "ov3z3r7pZDF0"
   },
   "outputs": [],
   "source": [
    "# Another Checkpoint\n",
    "import torch\n",
    "import helper\n",
    "import problem_unittests as tests\n",
    "\n",
    "_, vocab_to_int, int_to_vocab, token_dict = helper.load_preprocess()\n",
    "trained_rnn = helper.load_model('./save/trained_rnn')"
   ]
  },
  {
   "cell_type": "code",
   "execution_count": 0,
   "metadata": {
    "colab": {},
    "colab_type": "code",
    "id": "MK8pwhD6ZDF2"
   },
   "outputs": [],
   "source": [
    "import torch.nn.functional as F\n",
    "import numpy as np\n",
    "def generate(rnn, prime_id, int_to_vocab, token_dict, pad_value, predict_len=100):\n",
    "    \"\"\"\n",
    "    Generate text using the neural network\n",
    "    :param decoder: The PyTorch Module that holds the trained neural network\n",
    "    :param prime_id: The word id to start the first prediction\n",
    "    :param int_to_vocab: Dict of word id keys to word values\n",
    "    :param token_dict: Dict of puncuation tokens keys to puncuation values\n",
    "    :param pad_value: The value used to pad a sequence\n",
    "    :param predict_len: The length of text to generate\n",
    "    :return: The generated text\n",
    "    \"\"\"\n",
    "    rnn.eval()\n",
    "    \n",
    "    # create a sequence (batch_size=1) with the prime_id\n",
    "    current_seq = np.full((1, sequence_length), pad_value)\n",
    "    current_seq[-1][-1] = prime_id\n",
    "    predicted = [int_to_vocab[prime_id]]\n",
    "    \n",
    "    for _ in range(predict_len):\n",
    "        if train_on_gpu:\n",
    "            current_seq = torch.LongTensor(current_seq).cuda()\n",
    "        else:\n",
    "            current_seq = torch.LongTensor(current_seq)\n",
    "        \n",
    "        # initialize the hidden state\n",
    "        hidden = rnn.init_hidden(current_seq.size(0))\n",
    "        \n",
    "        # get the output of the rnn\n",
    "        output, _ = rnn(current_seq, hidden)\n",
    "        \n",
    "        # get the next word probabilities\n",
    "        p = F.softmax(output, dim=1).data\n",
    "        if(train_on_gpu):\n",
    "            p = p.cpu() # move to cpu\n",
    "         \n",
    "        # use top_k sampling to get the index of the next word\n",
    "        top_k = 5\n",
    "        p, top_i = p.topk(top_k)\n",
    "        top_i = top_i.numpy().squeeze()\n",
    "        \n",
    "        # select the likely next word index with some element of randomness\n",
    "        p = p.numpy().squeeze()\n",
    "        word_i = np.random.choice(top_i, p=p/p.sum())\n",
    "        \n",
    "        # retrieve that word from the dictionary\n",
    "        word = int_to_vocab[word_i]\n",
    "        predicted.append(word)     \n",
    "        \n",
    "        if(train_on_gpu):\n",
    "            current_seq = current_seq.cpu() # move to cpu\n",
    "        # the generated word becomes the next \"current sequence\" and the cycle can continue\n",
    "        if train_on_gpu:\n",
    "            current_seq = current_seq.cpu()\n",
    "        current_seq = np.roll(current_seq, -1, 1)\n",
    "        current_seq[-1][-1] = word_i\n",
    "    \n",
    "    gen_sentences = ' '.join(predicted)\n",
    "    \n",
    "    # Replace punctuation tokens\n",
    "    for key, token in token_dict.items():\n",
    "        ending = ' ' if key in ['\\n', '(', '\"'] else ''\n",
    "        gen_sentences = gen_sentences.replace(' ' + token.lower(), key)\n",
    "    gen_sentences = gen_sentences.replace('\\n ', '\\n')\n",
    "    gen_sentences = gen_sentences.replace('( ', '(')\n",
    "    \n",
    "    # return all the sentences\n",
    "    return gen_sentences"
   ]
  },
  {
   "cell_type": "code",
   "execution_count": 30,
   "metadata": {
    "colab": {
     "base_uri": "https://localhost:8080/",
     "height": 1000
    },
    "colab_type": "code",
    "executionInfo": {
     "elapsed": 2388,
     "status": "ok",
     "timestamp": 1587335416830,
     "user": {
      "displayName": "Anupreet Singh",
      "photoUrl": "https://lh3.googleusercontent.com/a-/AOh14Gg-_IOpDBSPw9mJj6uOECi1Y1hZMd4Dmf36mZmHGA=s64",
      "userId": "02412696281168132197"
     },
     "user_tz": -330
    },
    "id": "eAfRXxaWZDF5",
    "outputId": "73fd90e4-c07c-4b48-beea-687ab21b47cc"
   },
   "outputs": [
    {
     "name": "stdout",
     "output_type": "stream",
     "text": [
      "kramer:.\n",
      "\n",
      "jerry: what is the bubble boy?\n",
      "\n",
      "george: yes.\n",
      "\n",
      "george: i know, i don't want to talk.\n",
      "\n",
      "elaine: oh, yeah, i am going to get out.\n",
      "\n",
      "george: i don't want to see that.\n",
      "\n",
      "jerry: oh, yeah!\n",
      "\n",
      "jerry: so what are you gonna do?\n",
      "\n",
      "elaine: no. it's just a little.\n",
      "\n",
      "jerry: no, no.\n",
      "\n",
      "george: what?\n",
      "\n",
      "george: i don't know. it's not complicated.\n",
      "\n",
      "kramer: yeah.\n",
      "\n",
      "elaine: you know, i think i have to go out with you anymore.\n",
      "\n",
      "george: what do you have to do with that?\n",
      "\n",
      "jerry: no.\n",
      "\n",
      "jerry: i know.\n",
      "\n",
      "kramer: you know, the library is going to happen to trial, you know,\"\n",
      "\n",
      "jerry: what?\n",
      "\n",
      "jerry: i can't get the arrest.\n",
      "\n",
      "elaine: well, i was trying to smother you, but it was a little more.\n",
      "\n",
      "elaine: what?\n",
      "\n",
      "kramer: well...\n",
      "\n",
      "jerry: i know how to do it was wet.\n",
      "\n",
      "jerry: oh.\n",
      "\n",
      "kramer: hey, you can go to the beach to eat in the mood.\n",
      "\n",
      "frank: jackass, jackie.\n",
      "\n",
      "elaine: so what do you think?\n",
      "\n",
      "george: yeah.\n",
      "\n",
      "elaine: oh, yeah.\n",
      "\n",
      "kramer: well, i'm not gonna be honest with this.\n",
      "\n",
      "jerry: what is the matter?\n",
      "\n",
      "jerry: no.\n",
      "\n",
      "jerry: what about the defendants?\n",
      "\n",
      "sidra: yes.\n",
      "\n",
      "george: i know, but you could be impressed with the hopping.\n",
      "\n",
      "jerry: well, the whole thing blew up to a prostitute.\n",
      "\n",
      "estelle: i didn't know what you said, but, uh, uh, i got to talk to them, i was thinking about it, but i was trying to find it on 5 hours.\n",
      "\n",
      "jerry: you know what?\n",
      "\n",
      "jerry: no, i don't think it's odd.\n",
      "\n",
      "\n"
     ]
    }
   ],
   "source": [
    "# run the cell multiple times to get different results!\n",
    "gen_length = 400 # modify the length to your preference\n",
    "prime_word = 'kramer' # name for starting the script\n",
    "\n",
    "pad_word = helper.SPECIAL_WORDS['PADDING']\n",
    "generated_script = generate(trained_rnn, vocab_to_int[prime_word + ':'], int_to_vocab, token_dict, vocab_to_int[pad_word], gen_length)\n",
    "print(generated_script)"
   ]
  },
  {
   "cell_type": "code",
   "execution_count": 0,
   "metadata": {
    "colab": {},
    "colab_type": "code",
    "id": "bq75mT1DZDF8"
   },
   "outputs": [],
   "source": [
    "# save script to a text file\n",
    "f =  open(\"generated_script_2.txt\",\"w\")\n",
    "f.write(generated_script)\n",
    "f.close()"
   ]
  },
  {
   "cell_type": "code",
   "execution_count": 0,
   "metadata": {
    "colab": {},
    "colab_type": "code",
    "id": "0a5y6TOWZDGB"
   },
   "outputs": [],
   "source": []
  }
 ],
 "metadata": {
  "accelerator": "GPU",
  "colab": {
   "collapsed_sections": [],
   "name": "dlnd_tv_script_generation.ipynb",
   "provenance": []
  },
  "kernelspec": {
   "display_name": "Python 3",
   "language": "python",
   "name": "python3"
  },
  "language_info": {
   "codemirror_mode": {
    "name": "ipython",
    "version": 3
   },
   "file_extension": ".py",
   "mimetype": "text/x-python",
   "name": "python",
   "nbconvert_exporter": "python",
   "pygments_lexer": "ipython3",
   "version": "3.7.3"
  }
 },
 "nbformat": 4,
 "nbformat_minor": 1
}
